{
 "cells": [
  {
   "cell_type": "markdown",
   "metadata": {
    "id": "WcE39zEwyuJ7"
   },
   "source": [
    "\n",
    "**Arya Rahmanian**  \n",
    "**Texas A&M University**  \n",
    "**Machine Learning Project Spring 2023**  "
   ]
  },
  {
   "cell_type": "markdown",
   "metadata": {
    "id": "43mQs43ryuKA"
   },
   "source": [
    "## Data Preparation"
   ]
  },
  {
   "cell_type": "code",
   "execution_count": 74,
   "metadata": {
    "id": "_0NNNwDRyuKA"
   },
   "outputs": [],
   "source": [
    "# Importing the libraries\n",
    "import os\n",
    "import torch\n",
    "import torchvision\n",
    "from torchvision.utils import make_grid\n",
    "\n",
    "import numpy as np"
   ]
  },
  {
   "cell_type": "markdown",
   "metadata": {
    "id": "9g-7MOVTyuKB"
   },
   "source": [
    "We will use the Fashion-MNIST dataset. Fashion-MNIST is a dataset of Zalando's article images—consisting of a training set of 60,000 examples. Each example is a 28x28 grayscale image, associated with a label from 10 classes.  \n",
    "\n",
    "### Data\n",
    "\n",
    "Each image is 28 pixels in height and 28 pixels in width, for a total of 784 pixels in total. Each pixel has a single pixel-value associated with it, indicating the lightness or darkness of that pixel, with higher numbers meaning darker. This pixel-value is an integer between 0 and 255.  \n",
    "\n",
    "### Labels\n",
    "\n",
    "Each training and test example is assigned to one of the following labels:\n",
    "\n",
    "| Label | Description |\n",
    "|-------|-------------|\n",
    "| 0     | T-shirt/top |\n",
    "| 1     | Trouser     |\n",
    "| 2     | Pullover    |\n",
    "| 3     | Dress       |\n",
    "| 4     | Coat        |\n",
    "| 5     | Sandal      |\n",
    "| 6     | Shirt       |\n",
    "| 7     | Sneaker     |\n",
    "| 8     | Bag         |\n",
    "| 9     | Ankle boot  |\n",
    "\n",
    "Fashion-MNIST is included in the `torchvision` library."
   ]
  },
  {
   "cell_type": "code",
   "execution_count": 75,
   "metadata": {
    "id": "Q6nztLS7yuKC"
   },
   "outputs": [],
   "source": [
    "from torchvision.datasets import FashionMNIST\n",
    "from torchvision.transforms import Compose, ToTensor, Normalize"
   ]
  },
  {
   "cell_type": "code",
   "execution_count": 76,
   "metadata": {
    "id": "Z_uzCztNyuKD"
   },
   "outputs": [],
   "source": [
    "# Transform to normalize the data and convert to a tensor\n",
    "transform = Compose([ToTensor(),\n",
    "    Normalize((0.5,), (0.5,))\n",
    "    ])\n",
    "\n",
    "# Download the data\n",
    "dataset = FashionMNIST('MNIST_data/', download = True, train = True, transform = transform)"
   ]
  },
  {
   "cell_type": "markdown",
   "metadata": {
    "id": "2S1W1ktCyuKD"
   },
   "source": [
    "## Data Exploration"
   ]
  },
  {
   "cell_type": "code",
   "execution_count": 77,
   "metadata": {
    "id": "yZ2JquNdyuKE"
   },
   "outputs": [
    {
     "name": "stdout",
     "output_type": "stream",
     "text": [
      "['T-shirt/top', 'Trouser', 'Pullover', 'Dress', 'Coat', 'Sandal', 'Shirt', 'Sneaker', 'Bag', 'Ankle boot']\n"
     ]
    }
   ],
   "source": [
    "print(dataset.classes)"
   ]
  },
  {
   "cell_type": "code",
   "execution_count": 78,
   "metadata": {
    "id": "QU9EQWFoyuKE"
   },
   "outputs": [],
   "source": [
    "import matplotlib.pyplot as plt\n",
    "\n",
    "def show_example(img, label):\n",
    "    print('Label: {} ({})'.format(dataset.classes[label], label))\n",
    "    plt.imshow(img.squeeze(), cmap='Greys_r')\n",
    "    plt.axis(False)"
   ]
  },
  {
   "cell_type": "code",
   "execution_count": 79,
   "metadata": {
    "id": "TovSQLF6yuKF"
   },
   "outputs": [
    {
     "name": "stdout",
     "output_type": "stream",
     "text": [
      "Label: Dress (3)\n"
     ]
    },
    {
     "data": {
      "image/png": "[encoded data removed]",
      "text/plain": [
       "<Figure size 640x480 with 1 Axes>"
      ]
     },
     "metadata": {},
     "output_type": "display_data"
    }
   ],
   "source": [
    "show_example(*dataset[20])"
   ]
  },
  {
   "cell_type": "code",
   "execution_count": 80,
   "metadata": {
    "id": "lDiRVqLsyuKF"
   },
   "outputs": [
    {
     "name": "stdout",
     "output_type": "stream",
     "text": [
      "Label: Sneaker (7)\n"
     ]
    },
    {
     "data": {
      "image/png": "[encoded data removed]",
      "text/plain": [
       "<Figure size 640x480 with 1 Axes>"
      ]
     },
     "metadata": {},
     "output_type": "display_data"
    }
   ],
   "source": [
    "show_example(*dataset[20000])"
   ]
  },
  {
   "cell_type": "markdown",
   "metadata": {
    "id": "8GMSy_GHyuKF"
   },
   "source": [
    "## Creating Training and Validation Datasets"
   ]
  },
  {
   "cell_type": "markdown",
   "metadata": {
    "id": "R_MEJjfYyuKF"
   },
   "source": [
    "The `split_indices` function takes in the size of the entire dataset, `n`, the fraction of data to be used as validation set, `val_frac`, and the random seed and returns the indices of the data points to be added to the validation dataset.  \n"
   ]
  },
  {
   "cell_type": "code",
   "execution_count": 81,
   "metadata": {
    "id": "Kho3emIRyuKF"
   },
   "outputs": [],
   "source": [
    "def split_indices(n, val_frac, seed):\n",
    "    # Determine the size of the validation set\n",
    "    n_val = int(val_frac * n)\n",
    "    np.random.seed(seed)\n",
    "    # Create random permutation between 0 to n-1\n",
    "    idxs = np.random.permutation(n)\n",
    "    # Pick first n_val indices for validation set\n",
    "    return idxs[n_val:], idxs[:n_val]"
   ]
  },
  {
   "cell_type": "code",
   "execution_count": 82,
   "metadata": {
    "id": "NC7a43-ZyuKG"
   },
   "outputs": [
    {
     "name": "stdout",
     "output_type": "stream",
     "text": [
      "#samples in training set: 36000\n",
      "#samples in validation set: 24000\n"
     ]
    }
   ],
   "source": [
    "\n",
    "val_frac =  .4 ## Set the fraction for the validation set\n",
    "rand_seed =  99 ## Set the random seed\n",
    "\n",
    "train_indices, val_indices = split_indices(len(dataset), val_frac, rand_seed)\n",
    "print(\"#samples in training set: {}\".format(len(train_indices)))\n",
    "print(\"#samples in validation set: {}\".format(len(val_indices)))"
   ]
  },
  {
   "cell_type": "markdown",
   "metadata": {
    "id": "5JbJS5GByuKG"
   },
   "source": [
    "Next, we make use of the built-in dataloaders in PyTorch to create iterables of our our training and validation sets. This helps in avoiding fitting the whole dataset into memory and only loads a batch of the data that we can decide. \n",
    "\n"
   ]
  },
  {
   "cell_type": "code",
   "execution_count": 83,
   "metadata": {
    "id": "Xn2qrDnkyuKG"
   },
   "outputs": [],
   "source": [
    "from torch.utils.data.sampler import SubsetRandomSampler\n",
    "from torch.utils.data.dataloader import DataLoader"
   ]
  },
  {
   "cell_type": "code",
   "execution_count": 84,
   "metadata": {
    "id": "GQwCiHOhyuKG"
   },
   "outputs": [],
   "source": [
    "\n",
    "batch_size =  64 ## Set the batch size"
   ]
  },
  {
   "cell_type": "code",
   "execution_count": 85,
   "metadata": {
    "id": "2gR9bGnYyuKG"
   },
   "outputs": [],
   "source": [
    "# Training sampler and data loader\n",
    "train_sampler = SubsetRandomSampler(train_indices)\n",
    "train_dl = DataLoader(dataset,\n",
    "                     batch_size=batch_size,\n",
    "                     sampler=train_sampler)\n",
    "\n",
    "# Validation sampler and data loader\n",
    "val_sampler = SubsetRandomSampler(val_indices)\n",
    "val_dl = DataLoader(dataset,\n",
    "                   batch_size=batch_size,\n",
    "                   sampler=val_sampler)"
   ]
  },
  {
   "cell_type": "markdown",
   "metadata": {
    "id": "yZ49pxx9yuKG"
   },
   "source": [
    "Plot images in a sample batch of data."
   ]
  },
  {
   "cell_type": "code",
   "execution_count": 86,
   "metadata": {
    "id": "ZRUpyKEryuKG"
   },
   "outputs": [],
   "source": [
    "def show_batch(dl):\n",
    "    for images, labels in dl:\n",
    "        fig, ax = plt.subplots(figsize=(10,10))\n",
    "        ax.set_xticks([]); ax.set_yticks([])\n",
    "        ax.imshow(make_grid(images, 8).permute(1, 2, 0), cmap='Greys_r')\n",
    "        break"
   ]
  },
  {
   "cell_type": "code",
   "execution_count": 87,
   "metadata": {
    "id": "fg0muQ6jyuKH"
   },
   "outputs": [
    {
     "name": "stderr",
     "output_type": "stream",
     "text": [
      "Clipping input data to the valid range for imshow with RGB data ([0..1] for floats or [0..255] for integers).\n"
     ]
    },
    {
     "data": {
      "image/png": "[encoded data removed]",
      "text/plain": [
       "<Figure size 1000x1000 with 1 Axes>"
      ]
     },
     "metadata": {},
     "output_type": "display_data"
    }
   ],
   "source": [
    "show_batch(train_dl)"
   ]
  },
  {
   "cell_type": "markdown",
   "metadata": {
    "id": "PA4syzZ0yuKH"
   },
   "source": [
    "## Building the Model"
   ]
  },
  {
   "cell_type": "markdown",
   "metadata": {
    "id": "n6tp2iP8yuKH"
   },
   "source": [
    "Createing model by defining the network architecture in the `ImageClassifierNet` class.  \n",
    "**NOTE: I am keeping parameters $\\leq$ 100,000.**"
   ]
  },
  {
   "cell_type": "code",
   "execution_count": 88,
   "metadata": {
    "id": "neHUVjlyyuKH"
   },
   "outputs": [],
   "source": [
    "# Import the libraries\n",
    "import torch.nn as nn\n",
    "import torch.nn.functional as F\n",
    "from torchinfo import summary"
   ]
  },
  {
   "cell_type": "code",
   "execution_count": 89,
   "metadata": {
    "id": "vy-ENg1LyuKH"
   },
   "outputs": [],
   "source": [
    "class ImageClassifierNet(nn.Module):\n",
    "    def __init__(self, n_channels=1):\n",
    "        super(ImageClassifierNet, self).__init__()\n",
    " \n",
    "           \n",
    "        self.layer1 = nn.Sequential(nn.Conv2d(in_channels=n_channels, out_channels=8, kernel_size=3, padding=1),nn.BatchNorm2d(8),\n",
    "            nn.ReLU(),\n",
    "            nn.MaxPool2d(kernel_size=2, stride=2))\n",
    "        \n",
    "        self.layer2 = nn.Sequential(nn.Conv2d(in_channels=8, out_channels=16, kernel_size=3),nn.BatchNorm2d(16),nn.ReLU(),\n",
    "            nn.MaxPool2d(2))\n",
    "        \n",
    "        self.fc1 = nn.Linear(in_features=16*6*6, out_features=128)\n",
    "        self.drop1 = nn.Dropout(p=0.1)\n",
    "        \n",
    "        self.fc2 = nn.Linear(in_features=128, out_features=64)\n",
    "        self.drop2 = nn.Dropout(p=0.1)\n",
    "        self.fc3 = nn.Linear(in_features=64, out_features=10)\n",
    "        \n",
    "    def forward(self, X):\n",
    "        x = self.layer1(X)\n",
    "        x = self.layer2(x)\n",
    "        x = x.view(x.size(0), -1)\n",
    "        x = self.fc1(x)\n",
    "        x = self.drop1(x)\n",
    "        x = self.fc2(x)\n",
    "        x = self.drop2(x)\n",
    "        x = self.fc3(x)\n",
    "        \n",
    "        return x"
   ]
  },
  {
   "cell_type": "code",
   "execution_count": 90,
   "metadata": {
    "id": "jfWFN9TFyuKH"
   },
   "outputs": [],
   "source": [
    "model = ImageClassifierNet()"
   ]
  },
  {
   "cell_type": "code",
   "execution_count": 91,
   "metadata": {
    "id": "OeCRnkERyuKH"
   },
   "outputs": [
    {
     "data": {
      "text/plain": [
       "==========================================================================================\n",
       "Layer (type:depth-idx)                   Output Shape              Param #\n",
       "==========================================================================================\n",
       "ImageClassifierNet                       [64, 10]                  --\n",
       "├─Sequential: 1-1                        [64, 8, 14, 14]           --\n",
       "│    └─Conv2d: 2-1                       [64, 8, 28, 28]           80\n",
       "│    └─BatchNorm2d: 2-2                  [64, 8, 28, 28]           16\n",
       "│    └─ReLU: 2-3                         [64, 8, 28, 28]           --\n",
       "│    └─MaxPool2d: 2-4                    [64, 8, 14, 14]           --\n",
       "├─Sequential: 1-2                        [64, 16, 6, 6]            --\n",
       "│    └─Conv2d: 2-5                       [64, 16, 12, 12]          1,168\n",
       "│    └─BatchNorm2d: 2-6                  [64, 16, 12, 12]          32\n",
       "│    └─ReLU: 2-7                         [64, 16, 12, 12]          --\n",
       "│    └─MaxPool2d: 2-8                    [64, 16, 6, 6]            --\n",
       "├─Linear: 1-3                            [64, 128]                 73,856\n",
       "├─Dropout: 1-4                           [64, 128]                 --\n",
       "├─Linear: 1-5                            [64, 64]                  8,256\n",
       "├─Dropout: 1-6                           [64, 64]                  --\n",
       "├─Linear: 1-7                            [64, 10]                  650\n",
       "==========================================================================================\n",
       "Total params: 84,058\n",
       "Trainable params: 84,058\n",
       "Non-trainable params: 0\n",
       "Total mult-adds (M): 20.08\n",
       "==========================================================================================\n",
       "Input size (MB): 0.20\n",
       "Forward/backward pass size (MB): 8.89\n",
       "Params size (MB): 0.34\n",
       "Estimated Total Size (MB): 9.42\n",
       "=========================================================================================="
      ]
     },
     "execution_count": 91,
     "metadata": {},
     "output_type": "execute_result"
    }
   ],
   "source": [
    "summary(model, input_size=(batch_size, 1, 28, 28))"
   ]
  },
  {
   "cell_type": "markdown",
   "metadata": {
    "id": "nyrnbD-JyuKH"
   },
   "source": [
    "## Enable training on a GPU"
   ]
  },
  {
   "cell_type": "code",
   "execution_count": 93,
   "metadata": {
    "id": "3ag3cLTDyuKI"
   },
   "outputs": [],
   "source": [
    "def get_default_device():\n",
    "    \"\"\"Use GPU if available, else CPU\"\"\"\n",
    "    if torch.cuda.is_available():\n",
    "        return torch.device('cuda')\n",
    "    else:\n",
    "        return torch.device('cpu')\n",
    "\n",
    "def to_device(data, device):\n",
    "    \"\"\"Move tensor(s) to chosen device\"\"\"\n",
    "    if isinstance(data, (list,tuple)):\n",
    "        return [to_device(x, device) for x in data]\n",
    "    return data.to(device, non_blocking=True)\n",
    "\n",
    "class DeviceDataLoader():\n",
    "    \"\"\"Wrap a dataloader to move data to a device\"\"\"\n",
    "    def __init__(self, dl, device):\n",
    "        self.dl = dl\n",
    "        self.device = device\n",
    "    \n",
    "    def __iter__(self):\n",
    "        \"\"\"Yield a batch of data after moving it to device\"\"\"\n",
    "        for b in self.dl:\n",
    "            yield to_device(b, self.device)\n",
    "    \n",
    "    def __len__(self):\n",
    "        \"\"\"Number of batches\"\"\"\n",
    "        return len(self.dl)"
   ]
  },
  {
   "cell_type": "code",
   "execution_count": 94,
   "metadata": {
    "id": "v8SDHmBkyuKI"
   },
   "outputs": [
    {
     "data": {
      "text/plain": [
       "ImageClassifierNet(\n",
       "  (layer1): Sequential(\n",
       "    (0): Conv2d(1, 8, kernel_size=(3, 3), stride=(1, 1), padding=(1, 1))\n",
       "    (1): BatchNorm2d(8, eps=1e-05, momentum=0.1, affine=True, track_running_stats=True)\n",
       "    (2): ReLU()\n",
       "    (3): MaxPool2d(kernel_size=2, stride=2, padding=0, dilation=1, ceil_mode=False)\n",
       "  )\n",
       "  (layer2): Sequential(\n",
       "    (0): Conv2d(8, 16, kernel_size=(3, 3), stride=(1, 1))\n",
       "    (1): BatchNorm2d(16, eps=1e-05, momentum=0.1, affine=True, track_running_stats=True)\n",
       "    (2): ReLU()\n",
       "    (3): MaxPool2d(kernel_size=2, stride=2, padding=0, dilation=1, ceil_mode=False)\n",
       "  )\n",
       "  (fc1): Linear(in_features=576, out_features=128, bias=True)\n",
       "  (drop1): Dropout(p=0.1, inplace=False)\n",
       "  (fc2): Linear(in_features=128, out_features=64, bias=True)\n",
       "  (drop2): Dropout(p=0.1, inplace=False)\n",
       "  (fc3): Linear(in_features=64, out_features=10, bias=True)\n",
       ")"
      ]
     },
     "execution_count": 94,
     "metadata": {},
     "output_type": "execute_result"
    }
   ],
   "source": [
    "device = get_default_device()\n",
    "\n",
    "train_dl = DeviceDataLoader(train_dl, device)\n",
    "val_dl = DeviceDataLoader(val_dl, device)\n",
    "\n",
    "to_device(model, device)"
   ]
  },
  {
   "cell_type": "markdown",
   "metadata": {
    "id": "NUpkpFcoyuKI"
   },
   "source": [
    "## Train the model"
   ]
  },
  {
   "cell_type": "code",
   "execution_count": 95,
   "metadata": {
    "id": "smWOXIi6yuKI"
   },
   "outputs": [],
   "source": [
    "def train_model(n_epochs, model, train_dl, val_dl, loss_fn, opt_fn, lr):\n",
    "    \"\"\"\n",
    "    Trains the model on a dataset.\n",
    "    \n",
    "    Args:\n",
    "        n_epochs: number of epochs\n",
    "        model: ImageClassifierNet object\n",
    "        train_dl: training dataloader\n",
    "        val_dl: validation dataloader\n",
    "        loss_fn: the loss function\n",
    "        opt_fn: the optimizer\n",
    "        lr: learning rate\n",
    "    \n",
    "    Returns:\n",
    "        The trained model. \n",
    "        A tuple of (model, train_losses, val_losses, train_accuracies, val_accuracies)\n",
    "    \"\"\"\n",
    "    # Record these values the end of each epoch\n",
    "    train_losses, val_losses, train_accuracies, val_accuracies = [], [], [], []\n",
    "    \n",
    "    loss_list = []\n",
    "    iteration_list = []\n",
    "    accuracy_list = []\n",
    "    \n",
    "    # Lists for knowing classwise accuracy\n",
    "    predictions_list = []\n",
    "    labels_list = []\n",
    "    count = 0\n",
    "    # Change learning rate\n",
    "    for g in opt_fn.param_groups:\n",
    "        g['lr'] = lr\n",
    "      \n",
    "    for epoch in range(n_epochs):\n",
    "        model.train()  # Set the model to training mode\n",
    "        train_loss, train_accuracy = 0.0, 0.0  # Track the training loss and accuracy for this epoch\n",
    "        correct = 0.0 \n",
    "        total = 0.0\n",
    "        for inputs, labels in train_dl:\n",
    "            images, labels = inputs.to(device), labels.to(device) #move to GPU or CPU\n",
    "            \n",
    "            outputs = model(images)  # forward pass\n",
    "            loss = loss_fn(outputs, labels)  #get loss\n",
    "            opt_fn.zero_grad() \n",
    "            loss.backward()  #backward pass\n",
    "            opt_fn.step()  # update  param\n",
    "            train_loss += loss.item() * batch_size  #track loss\n",
    "            _, preds = torch.max(outputs.data, 1)  \n",
    "            total += labels.size(0)\n",
    "            correct += (preds == labels).sum().item()\n",
    "            #train_accuracy += torch.sum(preds == labels.data)  # Track the total number of correct predictions\n",
    "\n",
    "        # compute the average loss and accuracy for this epoch\n",
    "        train_loss = train_loss\n",
    "        train_accuracy = 100 * correct / total\n",
    "\n",
    "        #validation\n",
    "        model.eval()\n",
    "        val_loss, val_accuracy = 0.0, 0.0\n",
    "        val_total , val_correct = 0.0 , 0.0\n",
    "        if val_dl:\n",
    "            with torch.no_grad():\n",
    "                for inputs, labels in val_dl:\n",
    "                    images, labels = inputs.to(device), labels.to(device)\n",
    "                    outputs = model(inputs)\n",
    "                    loss = loss_fn(outputs, labels)\n",
    "                    val_loss += loss.item() * batch_size\n",
    "                    _, preds = torch.max(outputs, 1)\n",
    "\n",
    "                    val_total += labels.size(0)\n",
    "                    val_correct += (preds == labels).sum().item()\n",
    "            val_loss = val_loss\n",
    "            if val_total != 0:\n",
    "                val_accuracy = 100 * val_correct / val_total\n",
    "            else:\n",
    "                val_accuracy = None\n",
    "        else:\n",
    "            val_accuracy = None\n",
    "\n",
    "        # record the loss and accuracy for this epoch\n",
    "        train_losses.append(train_loss)\n",
    "        val_losses.append(val_loss)\n",
    "        train_accuracies.append(train_accuracy)\n",
    "        val_accuracies.append(val_accuracy)\n",
    "\n",
    "        # Print progress\n",
    "        if val_accuracy is not None:\n",
    "            print(\"Epoch {}/{}, train_loss: {:.4f}, val_loss: {:.4f}, train_accuracy: {:.4f}, val_accuracy: {:.4f}\"\n",
    "                  .format(epoch+1, n_epochs, train_loss, val_loss, train_accuracy, val_accuracy))\n",
    "        else:\n",
    "            print(\"Epoch {}/{}, train_loss: {:.4f}, train_accuracy: {:.4f}\"\n",
    "                  .format(epoch+1, n_epochs, train_loss, train_accuracy))\n",
    "    \n",
    "    return model, train_losses, val_losses, train_accuracies, val_accuracies\n"
   ]
  },
  {
   "cell_type": "code",
   "execution_count": 96,
   "metadata": {
    "id": "WLl883iGyuKI"
   },
   "outputs": [],
   "source": [
    "\n",
    "import torch.optim as optim\n",
    "from torch.optim import SGD\n",
    "num_epochs = 30 # Max number of training epochs\n",
    "loss_fn = nn.CrossEntropyLoss() # Define the loss function\n",
    "lr = 0.0001 # Set the learning rate\n",
    "#opt_fn = optim.SGD(model.parameters(), lr=lr)  # Select an optimizer function\n",
    "opt_fn = torch.optim.Adam(model.parameters(), lr=lr) # Select an optimizer function\n"
   ]
  },
  {
   "cell_type": "code",
   "execution_count": 97,
   "metadata": {
    "id": "UtSwd0s4yuKI"
   },
   "outputs": [
    {
     "name": "stdout",
     "output_type": "stream",
     "text": [
      "Epoch 1/30, train_loss: 31206.6182, val_loss: 12598.0299, train_accuracy: 71.8194, val_accuracy: 80.3875\n",
      "Epoch 2/30, train_loss: 17354.0426, val_loss: 10217.5177, train_accuracy: 82.5778, val_accuracy: 84.6125\n",
      "Epoch 3/30, train_loss: 15049.4236, val_loss: 9394.4064, train_accuracy: 85.0861, val_accuracy: 85.8417\n",
      "Epoch 4/30, train_loss: 13795.8159, val_loss: 8843.0656, train_accuracy: 86.4972, val_accuracy: 86.6917\n",
      "Epoch 5/30, train_loss: 13005.4451, val_loss: 8403.2848, train_accuracy: 87.1556, val_accuracy: 87.2958\n",
      "Epoch 6/30, train_loss: 12475.8207, val_loss: 8173.2760, train_accuracy: 87.7694, val_accuracy: 87.8417\n",
      "Epoch 7/30, train_loss: 11980.7014, val_loss: 8028.5234, train_accuracy: 88.2028, val_accuracy: 88.1750\n",
      "Epoch 8/30, train_loss: 11557.2983, val_loss: 7919.5920, train_accuracy: 88.6444, val_accuracy: 88.3042\n",
      "Epoch 9/30, train_loss: 11214.5314, val_loss: 7791.7959, train_accuracy: 88.9611, val_accuracy: 88.6000\n",
      "Epoch 10/30, train_loss: 11078.4687, val_loss: 7680.0764, train_accuracy: 89.0639, val_accuracy: 88.7250\n",
      "Epoch 11/30, train_loss: 10722.5226, val_loss: 7655.9063, train_accuracy: 89.4222, val_accuracy: 88.8708\n",
      "Epoch 12/30, train_loss: 10468.0506, val_loss: 7642.1996, train_accuracy: 89.7417, val_accuracy: 88.7458\n",
      "Epoch 13/30, train_loss: 10420.0059, val_loss: 7684.6589, train_accuracy: 89.7000, val_accuracy: 88.7167\n",
      "Epoch 14/30, train_loss: 10223.2316, val_loss: 7462.0099, train_accuracy: 89.7806, val_accuracy: 89.0083\n",
      "Epoch 15/30, train_loss: 10030.5105, val_loss: 7409.3978, train_accuracy: 90.1167, val_accuracy: 89.2542\n",
      "Epoch 16/30, train_loss: 9908.0802, val_loss: 7367.0005, train_accuracy: 90.0694, val_accuracy: 89.1833\n",
      "Epoch 17/30, train_loss: 9728.1607, val_loss: 7381.1303, train_accuracy: 90.3417, val_accuracy: 89.1792\n",
      "Epoch 18/30, train_loss: 9567.7950, val_loss: 7357.7395, train_accuracy: 90.4667, val_accuracy: 89.3833\n",
      "Epoch 19/30, train_loss: 9475.1474, val_loss: 7348.7339, train_accuracy: 90.6083, val_accuracy: 89.1917\n",
      "Epoch 20/30, train_loss: 9369.8362, val_loss: 7417.4188, train_accuracy: 90.6167, val_accuracy: 89.0250\n",
      "Epoch 21/30, train_loss: 9302.8351, val_loss: 7353.9313, train_accuracy: 90.7083, val_accuracy: 89.3042\n",
      "Epoch 22/30, train_loss: 9182.1662, val_loss: 7259.1508, train_accuracy: 90.8222, val_accuracy: 89.4042\n",
      "Epoch 23/30, train_loss: 9051.7816, val_loss: 7303.0032, train_accuracy: 91.0444, val_accuracy: 89.4000\n",
      "Epoch 24/30, train_loss: 8945.5515, val_loss: 7299.1152, train_accuracy: 91.0806, val_accuracy: 89.3833\n",
      "Epoch 25/30, train_loss: 8998.9949, val_loss: 7320.4505, train_accuracy: 91.0556, val_accuracy: 89.5500\n",
      "Epoch 26/30, train_loss: 8899.3626, val_loss: 7356.6254, train_accuracy: 90.9444, val_accuracy: 89.5083\n",
      "Epoch 27/30, train_loss: 8711.5180, val_loss: 7419.7015, train_accuracy: 91.3139, val_accuracy: 89.4167\n",
      "Epoch 28/30, train_loss: 8652.6609, val_loss: 7384.9244, train_accuracy: 91.4389, val_accuracy: 89.5042\n",
      "Epoch 29/30, train_loss: 8562.3837, val_loss: 7278.3925, train_accuracy: 91.4306, val_accuracy: 89.6042\n",
      "Epoch 30/30, train_loss: 8533.1801, val_loss: 7193.4886, train_accuracy: 91.5111, val_accuracy: 89.6750\n"
     ]
    }
   ],
   "source": [
    "history = train_model(num_epochs, model, train_dl, val_dl, loss_fn, opt_fn, lr)\n",
    "model, train_losses, val_losses, train_accuracies, val_accuracies = history"
   ]
  },
  {
   "cell_type": "markdown",
   "metadata": {
    "id": "83RGjj7MyuKJ"
   },
   "source": [
    "## Plot loss and accuracy\n",
    "\n"
   ]
  },
  {
   "cell_type": "code",
   "execution_count": 98,
   "metadata": {
    "id": "fRMb23OVyuKJ"
   },
   "outputs": [],
   "source": [
    "def plot_accuracy(train_accuracies, val_accuracies):\n",
    "    \"\"\"Plot accuracies\"\"\"\n",
    "    plt.plot(train_accuracies, \"-x\")\n",
    "    plt.plot(val_accuracies, \"-o\")\n",
    "    plt.xlabel(\"Epoch\")\n",
    "    plt.ylabel(\"Accuracy\")\n",
    "    plt.legend([\"Training\", \"Validation\"])\n",
    "    plt.title(\"Accuracy vs. No. of epochs\")"
   ]
  },
  {
   "cell_type": "code",
   "execution_count": 99,
   "metadata": {
    "id": "KrSNfm-6yuKJ"
   },
   "outputs": [
    {
     "data": {
      "image/png": "[encoded data removed]",
      "text/plain": [
       "<Figure size 640x480 with 1 Axes>"
      ]
     },
     "metadata": {},
     "output_type": "display_data"
    }
   ],
   "source": [
    "plot_accuracy(train_accuracies, val_accuracies)"
   ]
  },
  {
   "cell_type": "code",
   "execution_count": 100,
   "metadata": {
    "id": "SO5QQZuKyuKJ"
   },
   "outputs": [],
   "source": [
    "def plot_losses(train_losses, val_losses):\n",
    "    \"\"\"Plot losses\"\"\"\n",
    "    plt.plot(train_losses, \"-x\")\n",
    "    plt.plot(val_losses, \"-o\")\n",
    "    plt.xlabel(\"Epoch\")\n",
    "    plt.ylabel(\"Loss\")\n",
    "    plt.legend([\"Training\", \"Validation\"])\n",
    "    plt.title(\"Loss vs. No. of Epochs\")"
   ]
  },
  {
   "cell_type": "code",
   "execution_count": 101,
   "metadata": {
    "id": "4BW28SSYyuKJ"
   },
   "outputs": [
    {
     "data": {
      "image/png": "[encoded data removed]",
      "text/plain": [
       "<Figure size 640x480 with 1 Axes>"
      ]
     },
     "metadata": {},
     "output_type": "display_data"
    }
   ],
   "source": [
    "plot_losses(train_losses, val_losses)"
   ]
  },
  {
   "cell_type": "markdown",
   "metadata": {
    "id": "Mcr9pxd8yuKJ"
   },
   "source": [
    "## Train a model on the entire dataset"
   ]
  },
  {
   "cell_type": "markdown",
   "metadata": {
    "id": "y_hq90Slx_BJ"
   },
   "source": [
    "We create a new model with the architecture based on hyperparameter tuning step and train it on the whole training data."
   ]
  },
  {
   "cell_type": "code",
   "execution_count": 102,
   "metadata": {
    "id": "xeytabxJ0ygs"
   },
   "outputs": [],
   "source": [
    "new_model = ImageClassifierNet()\n"
   ]
  },
  {
   "cell_type": "code",
   "execution_count": 108,
   "metadata": {
    "id": "kr4-9BUD_wUq"
   },
   "outputs": [
    {
     "name": "stdout",
     "output_type": "stream",
     "text": [
      "Device being used: cuda\n",
      "Number of available GPUs: 1\n",
      "Current GPU index: 0\n",
      "Number of CUDA cores: 304\n"
     ]
    }
   ],
   "source": [
    "to_device(new_model, device)\n"
   ]
  },
  {
   "cell_type": "code",
   "execution_count": 104,
   "metadata": {
    "id": "1vWfme9Exsib"
   },
   "outputs": [],
   "source": [
    "indices, _ = split_indices(len(dataset), 0, rand_seed)\n",
    "\n",
    "sampler = SubsetRandomSampler(indices)\n",
    "dl = DataLoader(dataset, batch_size, sampler=sampler)\n",
    "dl = DeviceDataLoader(dl, device)"
   ]
  },
  {
   "cell_type": "code",
   "execution_count": null,
   "metadata": {
    "id": "oZxLGw9myuKJ"
   },
   "outputs": [
    {
     "name": "stdout",
     "output_type": "stream",
     "text": [
      "Epoch 1/75, train_loss: 16257.2042, train_accuracy: 90.2567\n",
      "Epoch 2/75, train_loss: 15394.7032, train_accuracy: 90.6817\n",
      "Epoch 3/75, train_loss: 15193.9329, train_accuracy: 90.8333\n",
      "Epoch 4/75, train_loss: 14757.0704, train_accuracy: 91.0483\n",
      "Epoch 5/75, train_loss: 14794.0159, train_accuracy: 90.9900\n",
      "Epoch 6/75, train_loss: 14295.0691, train_accuracy: 91.3117\n",
      "Epoch 7/75, train_loss: 14364.8880, train_accuracy: 91.2667\n",
      "Epoch 8/75, train_loss: 14080.7579, train_accuracy: 91.4933\n",
      "Epoch 9/75, train_loss: 13871.1290, train_accuracy: 91.5500\n",
      "Epoch 10/75, train_loss: 13668.7708, train_accuracy: 91.7683\n",
      "Epoch 11/75, train_loss: 13603.6716, train_accuracy: 91.6433\n",
      "Epoch 12/75, train_loss: 13589.2144, train_accuracy: 91.7567\n",
      "Epoch 13/75, train_loss: 13393.8383, train_accuracy: 91.8000\n",
      "Epoch 14/75, train_loss: 13279.7870, train_accuracy: 91.9550\n",
      "Epoch 15/75, train_loss: 13071.7721, train_accuracy: 92.0817\n",
      "Epoch 16/75, train_loss: 13027.4077, train_accuracy: 92.0850\n",
      "Epoch 17/75, train_loss: 12933.5855, train_accuracy: 92.1950\n",
      "Epoch 18/75, train_loss: 12814.0631, train_accuracy: 92.2117\n",
      "Epoch 19/75, train_loss: 12713.7561, train_accuracy: 92.2883\n",
      "Epoch 20/75, train_loss: 12730.2659, train_accuracy: 92.3000\n",
      "Epoch 21/75, train_loss: 12530.5049, train_accuracy: 92.4283\n",
      "Epoch 22/75, train_loss: 12439.6292, train_accuracy: 92.4200\n",
      "Epoch 23/75, train_loss: 12427.7145, train_accuracy: 92.5167\n",
      "Epoch 24/75, train_loss: 12229.5308, train_accuracy: 92.5750\n",
      "Epoch 25/75, train_loss: 12338.3123, train_accuracy: 92.5617\n",
      "Epoch 26/75, train_loss: 12319.6292, train_accuracy: 92.5800\n",
      "Epoch 27/75, train_loss: 12177.3382, train_accuracy: 92.5867\n",
      "Epoch 28/75, train_loss: 12118.3889, train_accuracy: 92.6183\n",
      "Epoch 29/75, train_loss: 11981.3966, train_accuracy: 92.7150\n",
      "Epoch 30/75, train_loss: 12047.9642, train_accuracy: 92.7017\n",
      "Epoch 31/75, train_loss: 11936.2889, train_accuracy: 92.6967\n",
      "Epoch 32/75, train_loss: 11733.7628, train_accuracy: 92.8700\n",
      "Epoch 33/75, train_loss: 11825.6505, train_accuracy: 92.8617\n",
      "Epoch 34/75, train_loss: 11847.8108, train_accuracy: 92.8600\n",
      "Epoch 35/75, train_loss: 11834.0832, train_accuracy: 92.8650\n",
      "Epoch 36/75, train_loss: 11722.3759, train_accuracy: 92.8450\n",
      "Epoch 37/75, train_loss: 11637.2305, train_accuracy: 92.8750\n",
      "Epoch 38/75, train_loss: 11645.4848, train_accuracy: 93.0033\n",
      "Epoch 39/75, train_loss: 11587.2965, train_accuracy: 92.9700\n",
      "Epoch 40/75, train_loss: 11635.9875, train_accuracy: 92.9800\n",
      "Epoch 41/75, train_loss: 11524.3789, train_accuracy: 92.9617\n",
      "Epoch 42/75, train_loss: 11425.4048, train_accuracy: 93.0633\n",
      "Epoch 43/75, train_loss: 11529.0525, train_accuracy: 92.9417\n",
      "Epoch 44/75, train_loss: 11425.9363, train_accuracy: 93.0217\n",
      "Epoch 45/75, train_loss: 11454.9051, train_accuracy: 92.9433\n",
      "Epoch 46/75, train_loss: 11336.6110, train_accuracy: 93.1450\n",
      "Epoch 47/75, train_loss: 11381.5363, train_accuracy: 92.9433\n",
      "Epoch 48/75, train_loss: 11326.4371, train_accuracy: 93.1400\n",
      "Epoch 49/75, train_loss: 11281.3114, train_accuracy: 93.0533\n",
      "Epoch 50/75, train_loss: 11265.0940, train_accuracy: 93.1083\n",
      "Epoch 51/75, train_loss: 11133.3852, train_accuracy: 93.2117\n",
      "Epoch 52/75, train_loss: 11172.3554, train_accuracy: 93.1283\n",
      "Epoch 53/75, train_loss: 11147.5514, train_accuracy: 93.1800\n",
      "Epoch 54/75, train_loss: 10964.6262, train_accuracy: 93.2867\n",
      "Epoch 55/75, train_loss: 11199.4845, train_accuracy: 93.1683\n",
      "Epoch 56/75, train_loss: 11103.3411, train_accuracy: 93.1950\n",
      "Epoch 57/75, train_loss: 11054.1677, train_accuracy: 93.3000\n",
      "Epoch 58/75, train_loss: 10953.9887, train_accuracy: 93.3017\n",
      "Epoch 59/75, train_loss: 10995.3947, train_accuracy: 93.2333\n",
      "Epoch 60/75, train_loss: 10920.9156, train_accuracy: 93.2400\n",
      "Epoch 61/75, train_loss: 11020.7511, train_accuracy: 93.3167\n",
      "Epoch 62/75, train_loss: 10929.5438, train_accuracy: 93.3700\n",
      "Epoch 63/75, train_loss: 10869.1192, train_accuracy: 93.2983\n",
      "Epoch 64/75, train_loss: 10930.9665, train_accuracy: 93.3700\n",
      "Epoch 65/75, train_loss: 10788.8097, train_accuracy: 93.3467\n",
      "Epoch 66/75, train_loss: 10814.1530, train_accuracy: 93.4900\n",
      "Epoch 67/75, train_loss: 10878.9396, train_accuracy: 93.3683\n",
      "Epoch 68/75, train_loss: 10723.6358, train_accuracy: 93.4933\n",
      "Epoch 69/75, train_loss: 10818.8853, train_accuracy: 93.3833\n",
      "Epoch 70/75, train_loss: 10827.2761, train_accuracy: 93.3533\n",
      "Epoch 71/75, train_loss: 10823.6317, train_accuracy: 93.3050\n",
      "Epoch 72/75, train_loss: 10643.0664, train_accuracy: 93.5067\n",
      "Epoch 73/75, train_loss: 10715.0679, train_accuracy: 93.4050\n",
      "Epoch 74/75, train_loss: 10657.2925, train_accuracy: 93.4783\n"
     ]
    }
   ],
   "source": [
    "\n",
    "\n",
    "num_epochs = 75 # Max number of training epochs\n",
    "lr = 0.001 # Set the learning rate\n",
    "opt_fn = torch.optim.Adam(new_model.parameters(), lr=lr) # Select an optimizer function\n",
    "history = train_model(num_epochs, new_model, dl, [], loss_fn, opt_fn, lr)\n",
    "new_model = history[0]"
   ]
  },
  {
   "cell_type": "markdown",
   "metadata": {
    "id": "fhWY1imsyuKK"
   },
   "source": [
    "## Check Predictions"
   ]
  },
  {
   "cell_type": "code",
   "execution_count": 110,
   "metadata": {
    "id": "nT4lsa5qyuKK"
   },
   "outputs": [],
   "source": [
    "def view_prediction(img, label, probs, classes):\n",
    "    \"\"\"\n",
    "    Visualize predictions.\n",
    "    \"\"\"\n",
    "    probs = probs.cpu().numpy().squeeze()\n",
    "\n",
    "    fig, (ax1, ax2) = plt.subplots(figsize=(8,15), ncols=2)\n",
    "    ax1.imshow(img.resize_(1, 28, 28).cpu().numpy().squeeze(), cmap='Greys_r')\n",
    "    ax1.axis('off')\n",
    "    ax1.set_title('Actual: {}'.format(classes[label]))\n",
    "    ax2.barh(np.arange(10), probs)\n",
    "    ax2.set_aspect(0.1)\n",
    "    ax2.set_yticks(np.arange(10))\n",
    "    ax2.set_yticklabels(classes, size='small');\n",
    "    ax2.set_title('Predicted: probabilities')\n",
    "    ax2.set_xlim(0, 1.1)\n",
    "\n",
    "    plt.tight_layout()"
   ]
  },
  {
   "cell_type": "code",
   "execution_count": 111,
   "metadata": {
    "id": "VWQYxhFTyuKK"
   },
   "outputs": [
    {
     "data": {
      "image/png": "[encoded data removed]",
      "text/plain": [
       "<Figure size 800x1500 with 2 Axes>"
      ]
     },
     "metadata": {},
     "output_type": "display_data"
    }
   ],
   "source": [
    "# Calculate the class probabilites (log softmax) for img\n",
    "images = iter(dl)\n",
    "for imgs, labels in images:\n",
    "    with torch.no_grad():\n",
    "        new_model.eval()\n",
    "        # Calculate the class probabilites (log softmax) for img\n",
    "        probs = torch.nn.functional.softmax(new_model(imgs[0].unsqueeze(0)), dim=1)\n",
    "        # Plot the image and probabilites\n",
    "        view_prediction(imgs[0], labels[0], probs, dataset.classes)\n",
    "    break"
   ]
  },
  {
   "cell_type": "markdown",
   "metadata": {
    "id": "BzNYS3LRyuKK"
   },
   "source": [
    "## Save the model"
   ]
  },
  {
   "cell_type": "code",
   "execution_count": 112,
   "metadata": {
    "id": "jxiqJXORyuKK"
   },
   "outputs": [],
   "source": [
    "torch.save(new_model, 'new_model')"
   ]
  },
  {
   "cell_type": "markdown",
   "metadata": {
    "id": "gA5cuahMyuKK"
   },
   "source": [
    "## Compute accuracy on the test set"
   ]
  },
  {
   "cell_type": "code",
   "execution_count": 113,
   "metadata": {
    "id": "9L6E5oAigIln"
   },
   "outputs": [],
   "source": [
    "import pickle"
   ]
  },
  {
   "cell_type": "code",
   "execution_count": 114,
   "metadata": {
    "id": "nR1CIHF4gPZB"
   },
   "outputs": [],
   "source": [
    "\n",
    "test_dataset_file_path = \"test_data.pickle\"\n",
    "\n",
    "with open(test_dataset_file_path, 'rb') as f:\n",
    "    test_dataset = pickle.load(f)"
   ]
  },
  {
   "cell_type": "code",
   "execution_count": 115,
   "metadata": {
    "id": "OQxtt0J-yuKK"
   },
   "outputs": [],
   "source": [
    "test_dl = DataLoader(test_dataset, batch_size)\n",
    "test_dl = DeviceDataLoader(test_dl, device)"
   ]
  },
  {
   "cell_type": "code",
   "execution_count": 116,
   "metadata": {
    "id": "HZquvkV-yuKK"
   },
   "outputs": [],
   "source": [
    "def evaluate(model, test_dl):\n",
    "    with torch.no_grad():\n",
    "        model.eval()\n",
    "        total_test_dl = 0\n",
    "        preds, labels = [], []\n",
    "        for xb, yb in test_dl:\n",
    "            # Model output\n",
    "            y_pred = model(xb)\n",
    "            _, y_pred = torch.max(y_pred, dim=1)\n",
    "            preds.extend(y_pred)\n",
    "            labels.extend(yb)               \n",
    "            total_test_dl += len(yb)\n",
    "\n",
    "    preds, labels = torch.tensor(preds), torch.tensor(labels)\n",
    "    test_accuracy = torch.sum(preds == labels).item() / len(preds)\n",
    "    return test_accuracy"
   ]
  },
  {
   "cell_type": "code",
   "execution_count": 117,
   "metadata": {
    "id": "-XP-C6cHyuKK"
   },
   "outputs": [
    {
     "name": "stdout",
     "output_type": "stream",
     "text": [
      "Test Accuracy = 0.8966\n"
     ]
    }
   ],
   "source": [
    "print(\"Test Accuracy = {:.4f}\".format(evaluate(new_model, test_dl)))"
   ]
  },
  {
   "cell_type": "code",
   "execution_count": null,
   "metadata": {},
   "outputs": [],
   "source": []
  }
 ],
 "metadata": {
  "colab": {
   "provenance": [],
   "toc_visible": true
  },
  "kernelspec": {
   "display_name": "Python 3 (ipykernel)",
   "language": "python",
   "name": "python3"
  },
  "language_info": {
   "codemirror_mode": {
    "name": "ipython",
    "version": 3
   },
   "file_extension": ".py",
   "mimetype": "text/x-python",
   "name": "python",
   "nbconvert_exporter": "python",
   "pygments_lexer": "ipython3",
   "version": "3.9.16"
  }
 },
 "nbformat": 4,
 "nbformat_minor": 4
}
